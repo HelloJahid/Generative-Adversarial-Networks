{
 "cells": [
  {
   "cell_type": "markdown",
   "metadata": {
    "id": "F9Bd3T1Oj8B2"
   },
   "source": [
    "## `Author`\n",
    "+ Name: Jahid Hasan\n",
    "+ 𝐏𝐡𝐨𝐧𝐞:   (+880) 1772905097 (Whatsapp)\n",
    "+ 𝘔𝘢𝘪𝘭:     jahidnoyon36@gmail.com\n",
    "+ LinkedIn: http://linkedin.com/in/hellojahid"
   ]
  },
  {
   "cell_type": "code",
   "execution_count": null,
   "metadata": {
    "id": "v-kT-T40jr_w"
   },
   "outputs": [],
   "source": [
    "from keras.datasets import mnist\n",
    "import numpy as np\n",
    "import matplotlib.pyplot as plt\n",
    "from random import randint\n",
    "%matplotlib inline"
   ]
  },
  {
   "cell_type": "code",
   "execution_count": null,
   "metadata": {
    "colab": {
     "base_uri": "https://localhost:8080/"
    },
    "id": "4SgxQeGgjr_w",
    "outputId": "ec8e731b-3eb2-45e8-b464-78989d5f4cea"
   },
   "outputs": [
    {
     "name": "stdout",
     "output_type": "stream",
     "text": [
      "Drive already mounted at /content/gdrive; to attempt to forcibly remount, call drive.mount(\"/content/gdrive\", force_remount=True).\n"
     ]
    }
   ],
   "source": [
    "\n",
    "from google.colab import drive \n",
    "drive.mount('/content/gdrive')"
   ]
  },
  {
   "cell_type": "markdown",
   "metadata": {
    "id": "hoovQZgQjr_x"
   },
   "source": [
    "# Generator"
   ]
  },
  {
   "cell_type": "code",
   "execution_count": null,
   "metadata": {
    "id": "dr0LN3aAjr_x"
   },
   "outputs": [],
   "source": [
    "#!/usr/bin/env python3\n",
    "import sys\n",
    "import numpy as np\n",
    "from keras.layers import Dense, Reshape\n",
    "from keras.layers import BatchNormalization\n",
    "from keras.layers.advanced_activations import LeakyReLU\n",
    "from keras.models import Sequential, Model\n",
    "from keras.optimizers import Adam\n",
    "\n",
    "block_size = 128\n",
    "num_blocks=4\n",
    "OPTMIZER = Adam(lr=0.0002, decay=8e-9)\n",
    "\n",
    "generator = Sequential()\n",
    "generator.add(Dense(block_size, input_shape=(100, )))\n",
    "generator.add(LeakyReLU(alpha=0.02))\n",
    "generator.add(BatchNormalization(momentum=0.8))\n",
    "\n",
    "for i in range(num_blocks-1):\n",
    "    block_size = block_size * 2\n",
    "    generator.add(Dense(block_size))\n",
    "    generator.add(LeakyReLU(alpha=0.2))\n",
    "    generator.add(BatchNormalization(momentum=0.8))\n",
    "\n",
    "generator.add(Dense(28 * 28 * 1, activation='tanh'))\n",
    "generator.add(Reshape((28, 28, 1)))\n",
    "generator.compile(loss=\"binary_crossentropy\", optimizer=OPTMIZER)"
   ]
  },
  {
   "cell_type": "code",
   "execution_count": null,
   "metadata": {
    "colab": {
     "base_uri": "https://localhost:8080/"
    },
    "id": "x1fCUlr8jr_x",
    "outputId": "ab68039d-4839-4e9b-d520-63560abf0de0"
   },
   "outputs": [
    {
     "name": "stdout",
     "output_type": "stream",
     "text": [
      "Model: \"sequential\"\n",
      "_________________________________________________________________\n",
      "Layer (type)                 Output Shape              Param #   \n",
      "=================================================================\n",
      "dense (Dense)                (None, 128)               12928     \n",
      "_________________________________________________________________\n",
      "leaky_re_lu (LeakyReLU)      (None, 128)               0         \n",
      "_________________________________________________________________\n",
      "batch_normalization (BatchNo (None, 128)               512       \n",
      "_________________________________________________________________\n",
      "dense_1 (Dense)              (None, 256)               33024     \n",
      "_________________________________________________________________\n",
      "leaky_re_lu_1 (LeakyReLU)    (None, 256)               0         \n",
      "_________________________________________________________________\n",
      "batch_normalization_1 (Batch (None, 256)               1024      \n",
      "_________________________________________________________________\n",
      "dense_2 (Dense)              (None, 512)               131584    \n",
      "_________________________________________________________________\n",
      "leaky_re_lu_2 (LeakyReLU)    (None, 512)               0         \n",
      "_________________________________________________________________\n",
      "batch_normalization_2 (Batch (None, 512)               2048      \n",
      "_________________________________________________________________\n",
      "dense_3 (Dense)              (None, 1024)              525312    \n",
      "_________________________________________________________________\n",
      "leaky_re_lu_3 (LeakyReLU)    (None, 1024)              0         \n",
      "_________________________________________________________________\n",
      "batch_normalization_3 (Batch (None, 1024)              4096      \n",
      "_________________________________________________________________\n",
      "dense_4 (Dense)              (None, 784)               803600    \n",
      "_________________________________________________________________\n",
      "reshape (Reshape)            (None, 28, 28, 1)         0         \n",
      "=================================================================\n",
      "Total params: 1,514,128\n",
      "Trainable params: 1,510,288\n",
      "Non-trainable params: 3,840\n",
      "_________________________________________________________________\n"
     ]
    }
   ],
   "source": [
    "generator.summary()"
   ]
  },
  {
   "cell_type": "code",
   "execution_count": null,
   "metadata": {
    "id": "L8Ae6g51jr_y"
   },
   "outputs": [],
   "source": []
  },
  {
   "cell_type": "markdown",
   "metadata": {
    "id": "xlr6EeLRjr_y"
   },
   "source": [
    "# Discriminator"
   ]
  },
  {
   "cell_type": "code",
   "execution_count": null,
   "metadata": {
    "id": "W4I9Z4Rgjr_y"
   },
   "outputs": [],
   "source": [
    "import sys\n",
    "import numpy as np\n",
    "from keras.layers import Input, Dense, Reshape, Flatten, Dropout\n",
    "from keras.layers.advanced_activations import LeakyReLU\n",
    "from keras.models import Sequential, Model\n",
    "from keras.optimizers import Adam\n",
    "\n",
    "SHAPE =  (28, 28, 1)\n",
    "CAPACITY = 28 * 28 * 1\n",
    "OPTMIZER = Adam(lr=0.0002, decay=8e-9)\n",
    "\n",
    "discriminator = Sequential()\n",
    "discriminator.add(Flatten(input_shape = SHAPE))\n",
    "discriminator.add(Dense(CAPACITY, input_shape=SHAPE))\n",
    "discriminator.add(LeakyReLU(alpha=0.2))\n",
    "discriminator.add(Dense(int(CAPACITY/2)))\n",
    "discriminator.add(LeakyReLU(alpha=0.2))\n",
    "discriminator.add(Dense(1, activation='sigmoid'))\n",
    "discriminator.compile(loss=\"binary_crossentropy\", optimizer=OPTMIZER)\n",
    "\n"
   ]
  },
  {
   "cell_type": "code",
   "execution_count": null,
   "metadata": {
    "colab": {
     "base_uri": "https://localhost:8080/"
    },
    "id": "jfR7Ss28jr_z",
    "outputId": "6a89156b-0cad-4b64-bff3-9b961b19eae7"
   },
   "outputs": [
    {
     "name": "stdout",
     "output_type": "stream",
     "text": [
      "Model: \"sequential_1\"\n",
      "_________________________________________________________________\n",
      "Layer (type)                 Output Shape              Param #   \n",
      "=================================================================\n",
      "flatten (Flatten)            (None, 784)               0         \n",
      "_________________________________________________________________\n",
      "dense_5 (Dense)              (None, 784)               615440    \n",
      "_________________________________________________________________\n",
      "leaky_re_lu_4 (LeakyReLU)    (None, 784)               0         \n",
      "_________________________________________________________________\n",
      "dense_6 (Dense)              (None, 392)               307720    \n",
      "_________________________________________________________________\n",
      "leaky_re_lu_5 (LeakyReLU)    (None, 392)               0         \n",
      "_________________________________________________________________\n",
      "dense_7 (Dense)              (None, 1)                 393       \n",
      "=================================================================\n",
      "Total params: 923,553\n",
      "Trainable params: 923,553\n",
      "Non-trainable params: 0\n",
      "_________________________________________________________________\n"
     ]
    }
   ],
   "source": [
    "discriminator.summary()"
   ]
  },
  {
   "cell_type": "code",
   "execution_count": null,
   "metadata": {
    "id": "wS39A_Rsjr_z"
   },
   "outputs": [],
   "source": []
  },
  {
   "cell_type": "markdown",
   "metadata": {
    "id": "L6__kcuNjr_z"
   },
   "source": [
    "# Adversarial Network"
   ]
  },
  {
   "cell_type": "code",
   "execution_count": null,
   "metadata": {
    "id": "-e35FGoijr_0"
   },
   "outputs": [],
   "source": [
    "OPTIMIZER = Adam(lr=0.0002, decay=8e-9)\n",
    "discriminator.trainable = False\n",
    "\n",
    "gan = Sequential()\n",
    "gan.add(generator)\n",
    "gan.add(discriminator)\n",
    "gan.compile(loss=\"binary_crossentropy\", optimizer=OPTMIZER)"
   ]
  },
  {
   "cell_type": "code",
   "execution_count": null,
   "metadata": {
    "colab": {
     "base_uri": "https://localhost:8080/"
    },
    "id": "wmDzQfVQjr_0",
    "outputId": "7be9d636-7370-4a33-d8b0-2c84ee1d0c22"
   },
   "outputs": [
    {
     "name": "stdout",
     "output_type": "stream",
     "text": [
      "Model: \"sequential_2\"\n",
      "_________________________________________________________________\n",
      "Layer (type)                 Output Shape              Param #   \n",
      "=================================================================\n",
      "sequential (Sequential)      (None, 28, 28, 1)         1514128   \n",
      "_________________________________________________________________\n",
      "sequential_1 (Sequential)    (None, 1)                 923553    \n",
      "=================================================================\n",
      "Total params: 2,437,681\n",
      "Trainable params: 1,510,288\n",
      "Non-trainable params: 927,393\n",
      "_________________________________________________________________\n"
     ]
    }
   ],
   "source": [
    "gan.summary()"
   ]
  },
  {
   "cell_type": "code",
   "execution_count": null,
   "metadata": {
    "id": "MvXm5k1Xjr_0"
   },
   "outputs": [],
   "source": []
  },
  {
   "cell_type": "code",
   "execution_count": null,
   "metadata": {
    "id": "lPzr3tJmkMmb"
   },
   "outputs": [],
   "source": []
  },
  {
   "cell_type": "markdown",
   "metadata": {
    "id": "zeHrfXfSjr_1"
   },
   "source": [
    "# Load MNIST"
   ]
  },
  {
   "cell_type": "code",
   "execution_count": null,
   "metadata": {
    "id": "fN_XfqZjjr_1"
   },
   "outputs": [],
   "source": [
    " def load_MNIST(model_type=-1):\n",
    "    allowed_types = [-1,0,1,2,3,4,5,6,7,8,9]\n",
    "    if model_type not in allowed_types:\n",
    "        print('ERROR: Only Integer Values from -1 to 9 are allowed')\n",
    "\n",
    "    (X_train, Y_train), (_, _) = mnist.load_data()\n",
    "    if model_type!=-1:\n",
    "        X_train = X_train[np.where(Y_train==int(model_type))[0]]\n",
    "    \n",
    "    # Rescale -1 to 1\n",
    "    # Find Normalize Function from CV Class  \n",
    "    X_train = ( np.float32(X_train) - 127.5) / 127.5\n",
    "    X_train = np.expand_dims(X_train, axis=3)\n",
    "    return X_train"
   ]
  },
  {
   "cell_type": "code",
   "execution_count": null,
   "metadata": {
    "id": "idgE_lBhkXZx"
   },
   "outputs": [],
   "source": []
  },
  {
   "cell_type": "markdown",
   "metadata": {
    "id": "SLzViNvckJY3"
   },
   "source": [
    "## Train GAN"
   ]
  },
  {
   "cell_type": "code",
   "execution_count": null,
   "metadata": {
    "id": "22Pf2XGdkMzj"
   },
   "outputs": [],
   "source": [
    "\n",
    "W = 28\n",
    "H = 28\n",
    "C = 1\n",
    "EPOCHS = 5000001\n",
    "BATCH = 32\n",
    "CHECKPOINT = 500\n",
    "model_type=-1\n",
    "LATENT_SPACE_SIZE = 100\n",
    "\n",
    "# generator = Generator(height=H, width=W, channels=C, latent_size=LATENT_SPACE_SIZE)\n",
    "# discriminator = Discriminator(height=H, width=W, channels=C)\n",
    "# gan = GAN(generator=generator.Generator, discriminator=discriminator.Discriminator)\n",
    "\n",
    "X_train = load_MNIST()\n",
    "\n",
    "\n",
    "\n",
    "def train():\n",
    "    \n",
    "\n",
    "    for e in range(EPOCHS):\n",
    "        # Train Discriminator\n",
    "        # Make the training batch for this model be half real, half noise\n",
    "        # Grab Real Images for this training batch\n",
    "        count_real_images = int(BATCH/2)\n",
    "        starting_index = randint(0, (len(X_train)-count_real_images))\n",
    "        real_images_raw = X_train[ starting_index : (starting_index + count_real_images) ]\n",
    "        x_real_images = real_images_raw.reshape( count_real_images, W, H, C )\n",
    "        y_real_labels = np.ones([count_real_images,1])\n",
    "\n",
    "        # Grab Generated Images for this training batch\n",
    "        latent_space_samples = sample_latent_space(count_real_images)\n",
    "        x_generated_images = generator.predict(latent_space_samples)\n",
    "        y_generated_labels = np.zeros([BATCH-count_real_images,1])\n",
    "\n",
    "        # Combine to train on the discriminator\n",
    "        x_batch = np.concatenate( [x_real_images, x_generated_images] )\n",
    "        y_batch = np.concatenate( [y_real_labels, y_generated_labels] )\n",
    "\n",
    "        # Now, train the discriminator with this batch\n",
    "        discriminator_loss = discriminator.train_on_batch(x_batch,y_batch)\n",
    "\n",
    "        # Generate Noise\n",
    "        x_latent_space_samples = sample_latent_space(BATCH)\n",
    "        y_generated_labels = np.ones([BATCH,1])\n",
    "        generator_loss = gan.train_on_batch(x_latent_space_samples,y_generated_labels)\n",
    "\n",
    "        \n",
    "\n",
    "        if e % CHECKPOINT == 0 :\n",
    "            print ('Epoch: '+str(int(e))+', [Discriminator :: Loss: '+str(discriminator_loss)+'], [ Generator :: Loss: '+str(generator_loss)+']')\n",
    "            plot_checkpoint(e)\n",
    "    return\n"
   ]
  },
  {
   "cell_type": "markdown",
   "metadata": {
    "id": "HpODqLSeqtUg"
   },
   "source": [
    "## Genearate MNIST image and save as image"
   ]
  },
  {
   "cell_type": "code",
   "execution_count": null,
   "metadata": {
    "id": "J4EN0gpckW-d"
   },
   "outputs": [],
   "source": [
    "def sample_latent_space(instances):\n",
    "    return np.random.normal(0, 1, (instances, LATENT_SPACE_SIZE))\n",
    "\n",
    "def plot_checkpoint(e):\n",
    "    filename = \"/content/data/sample_\"+str(e)+\".png\"\n",
    "    gfilename = \"/content/gdrive/MyDrive/Colab Notebooks/Deep Learning/GAN/MNIST samples/ample_\"+str(e)+\".png\"\n",
    "\n",
    "    noise = sample_latent_space(16)\n",
    "    images = generator.predict(noise)\n",
    "    \n",
    "    plt.figure(figsize=(10,10))\n",
    "    for i in range(images.shape[0]):\n",
    "        plt.subplot(4, 4, i+1)\n",
    "        image = images[i, :, :, :]\n",
    "        image = np.reshape(image, [H,W])\n",
    "        plt.imshow(image, cmap='gray')\n",
    "        plt.axis('off')\n",
    "    plt.tight_layout()\n",
    "    plt.savefig(filename)\n",
    "    plt.savefig(gfilename)\n",
    "    plt.close('all')\n",
    "    return"
   ]
  },
  {
   "cell_type": "markdown",
   "metadata": {
    "id": "GSDLqdcArRx2"
   },
   "source": [
    "# `Lets Train`"
   ]
  },
  {
   "cell_type": "code",
   "execution_count": 1,
   "metadata": {
    "colab": {
     "base_uri": "https://localhost:8080/"
    },
    "id": "bLu7r68sn_as",
    "outputId": "f721c5a1-b227-4a31-811f-a21d1c17be1c"
   },
   "outputs": [],
   "source": [
    "train()"
   ]
  },
  {
   "cell_type": "code",
   "execution_count": null,
   "metadata": {
    "id": "M8j1ehFEn_YA"
   },
   "outputs": [],
   "source": []
  },
  {
   "cell_type": "markdown",
   "metadata": {
    "id": "616IzrkDNOyb"
   },
   "source": [
    "## Output\n"
   ]
  },
  {
   "cell_type": "code",
   "execution_count": 2,
   "metadata": {
    "colab": {
     "base_uri": "https://localhost:8080/",
     "height": 286
    },
    "id": "xwPNILHTn_VJ",
    "outputId": "0a4c5683-8a2e-4e9f-89e9-66df9b854b60"
   },
   "outputs": [
    {
     "data": {
      "text/plain": [
       "<matplotlib.image.AxesImage at 0x7f7c6f932d30>"
      ]
     },
     "execution_count": 2,
     "metadata": {
      "tags": []
     },
     "output_type": "execute_result"
    },
    {
     "data": {
      "image/png": "[encoded data removed]",
      "text/plain": [
       "<Figure size 432x288 with 1 Axes>"
      ]
     },
     "metadata": {
      "needs_background": "light",
      "tags": []
     },
     "output_type": "display_data"
    }
   ],
   "source": [
    "import matplotlib.pyplot as plt\n",
    "\n",
    "plt.imshow(plt.imread('/content/Data/smple_639500.png'))"
   ]
  },
  {
   "cell_type": "code",
   "execution_count": null,
   "metadata": {
    "id": "tMTMJdr4n_S2"
   },
   "outputs": [],
   "source": []
  },
  {
   "cell_type": "code",
   "execution_count": null,
   "metadata": {
    "id": "0l3sUsuWn_QN"
   },
   "outputs": [],
   "source": []
  }
 ],
 "metadata": {
  "accelerator": "GPU",
  "colab": {
   "collapsed_sections": [],
   "name": "GAN_mnist.ipynb",
   "provenance": [],
   "toc_visible": true
  },
  "kernelspec": {
   "display_name": "Python 3",
   "language": "python",
   "name": "python3"
  },
  "language_info": {
   "codemirror_mode": {
    "name": "ipython",
    "version": 3
   },
   "file_extension": ".py",
   "mimetype": "text/x-python",
   "name": "python",
   "nbconvert_exporter": "python",
   "pygments_lexer": "ipython3",
   "version": "3.8.5"
  }
 },
 "nbformat": 4,
 "nbformat_minor": 1
}
